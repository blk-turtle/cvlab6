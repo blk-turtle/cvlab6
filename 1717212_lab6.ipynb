{
 "cells": [
  {
   "cell_type": "markdown",
   "id": "c1a8c7db",
   "metadata": {},
   "source": [
    "# CV Lab 6"
   ]
  },
  {
   "cell_type": "markdown",
   "id": "12ead1f5",
   "metadata": {},
   "source": [
    "#### Student number: 1717212"
   ]
  },
  {
   "cell_type": "markdown",
   "id": "9b5ba4ee",
   "metadata": {},
   "source": [
    "---"
   ]
  },
  {
   "cell_type": "code",
   "execution_count": 1,
   "id": "b5055854",
   "metadata": {},
   "outputs": [],
   "source": [
    "import cv2 as cv\n",
    "from glob import glob\n",
    "import imageio as iio\n",
    "import math\n",
    "import matplotlib.pyplot as plt\n",
    "%matplotlib inline\n",
    "import mpmath\n",
    "from natsort import natsorted\n",
    "import numpy as np\n",
    "import PIL\n",
    "from pathlib import Path\n",
    "import scipy.stats\n",
    "import seaborn as sns\n",
    "import skimage\n",
    "from skimage import img_as_float32\n",
    "from skimage.color import rgb2gray, rgb2hsv"
   ]
  },
  {
   "cell_type": "markdown",
   "id": "abeed99a",
   "metadata": {},
   "source": [
    "#### Helper functions"
   ]
  },
  {
   "cell_type": "code",
   "execution_count": 35,
   "id": "96294a41",
   "metadata": {},
   "outputs": [],
   "source": [
    "def contrast_stretch(image):\n",
    "    return (image - image.mean(axis=(0,1))) / image.std(axis=(0,1))"
   ]
  },
  {
   "cell_type": "markdown",
   "id": "112e6374",
   "metadata": {},
   "source": [
    "Load the images and masks"
   ]
  },
  {
   "cell_type": "code",
   "execution_count": 68,
   "id": "7e039c51",
   "metadata": {},
   "outputs": [],
   "source": [
    "# load images and masks\n",
    "path_pairs = list(zip(\n",
    "    natsorted(glob('./puzzle_corners_1024x768/images-1024x768/*.png')),\n",
    "    natsorted(glob('./puzzle_corners_1024x768/masks-1024x768/*.png')),\n",
    "))\n",
    "\n",
    "imgs = np.array([img_as_float32(iio.imread(ipath)) for ipath, _ in path_pairs])\n",
    "msks = np.array([img_as_float32(iio.imread(mpath)) for _, mpath in path_pairs])"
   ]
  },
  {
   "cell_type": "markdown",
   "id": "9cf97820",
   "metadata": {},
   "source": [
    "### 1 Find Contours"
   ]
  },
  {
   "cell_type": "markdown",
   "id": "b6c21090",
   "metadata": {},
   "source": [
    "#### Question 1.1"
   ]
  },
  {
   "cell_type": "code",
   "execution_count": 69,
   "id": "b1511a41",
   "metadata": {},
   "outputs": [],
   "source": [
    "def get_puzzle_contour(mask):\n",
    "    contours, _ = cv.findContours(mask.astype(np.uint8), cv.RETR_LIST, cv.CHAIN_APPROX_SIMPLE)\n",
    "    contours = sorted(contours, key=cv.contourArea, reverse=True) # sort by contour area\n",
    "    return contours[0]"
   ]
  },
  {
   "cell_type": "markdown",
   "id": "77218c26",
   "metadata": {},
   "source": [
    "#### Question 1.2"
   ]
  },
  {
   "cell_type": "code",
   "execution_count": 82,
   "id": "e4dbb3cd",
   "metadata": {},
   "outputs": [],
   "source": [
    "def get_clockwise_contour(contour):\n",
    "    area = cv.contourArea(contour, oriented=True)\n",
    "    if area < 0:\n",
    "        return contour[::-1]\n",
    "    return contour"
   ]
  },
  {
   "cell_type": "markdown",
   "id": "ff8fda42",
   "metadata": {},
   "source": [
    "#### Question 1.3"
   ]
  },
  {
   "cell_type": "markdown",
   "id": "300cf900",
   "metadata": {},
   "source": [
    "cv.findContours"
   ]
  },
  {
   "cell_type": "markdown",
   "id": "81d2d9ae",
   "metadata": {},
   "source": [
    "*[Read Topological structural analysis of digitized binary images by border following]*"
   ]
  },
  {
   "cell_type": "markdown",
   "id": "073846f7",
   "metadata": {},
   "source": [
    "cv.contourArea"
   ]
  },
  {
   "cell_type": "markdown",
   "id": "73184038",
   "metadata": {},
   "source": [
    "*[Read https://mathinsight.org/greens_theorem_find_area#:%7E:text=We%20can%20parametrized%20it%20in,dt%3D%CF%80r2.]*"
   ]
  },
  {
   "cell_type": "markdown",
   "id": "3d019c56",
   "metadata": {},
   "source": [
    "#### Question 1.4"
   ]
  },
  {
   "cell_type": "code",
   "execution_count": null,
   "id": "bc67f2b6",
   "metadata": {},
   "outputs": [],
   "source": []
  }
 ],
 "metadata": {
  "kernelspec": {
   "display_name": "Python 3 (ipykernel)",
   "language": "python",
   "name": "python3"
  },
  "language_info": {
   "codemirror_mode": {
    "name": "ipython",
    "version": 3
   },
   "file_extension": ".py",
   "mimetype": "text/x-python",
   "name": "python",
   "nbconvert_exporter": "python",
   "pygments_lexer": "ipython3",
   "version": "3.9.12"
  }
 },
 "nbformat": 4,
 "nbformat_minor": 5
}
